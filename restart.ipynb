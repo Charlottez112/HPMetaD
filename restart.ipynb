{
 "cells": [
  {
   "cell_type": "code",
   "execution_count": 1,
   "id": "2ea5f0c6-beb4-43ca-90d5-077e8db8bb92",
   "metadata": {},
   "outputs": [],
   "source": [
    "from hpmetad import HPMetaD\n",
    "import hoomd\n",
    "import gsd.hoomd\n",
    "import numpy as np\n",
    "from hoomd import hpmc\n",
    "import time\n",
    "import coxeter"
   ]
  },
  {
   "cell_type": "code",
   "execution_count": 2,
   "id": "086150c5-9692-4a02-bef0-6b7224372cd5",
   "metadata": {},
   "outputs": [],
   "source": [
    "# Define shape\n",
    "alpha_a = 0.1\n",
    "alpha_c = 0.3\n",
    "\n",
    "a = alpha_a * (3 - 1) + 1\n",
    "c = alpha_c * (3 - 1) + 1\n",
    "target_pf = 0.6\n",
    "\n",
    "name = f'shape_a_{int(alpha_a * 100)}_c_{int(alpha_c * 100)}'\n",
    "shape = coxeter.families.Family323Plus.get_shape(a=a, c=c)\n",
    "shape.volume = 1\n",
    "shape.center = [0, 0, 0]\n",
    "\n",
    "verts = shape.vertices.tolist()"
   ]
  },
  {
   "cell_type": "code",
   "execution_count": 3,
   "id": "a204a008-d832-4663-874e-9124d1c212fd",
   "metadata": {},
   "outputs": [],
   "source": [
    "# Simulation parameters\n",
    "run_params = dict(N_random = 1e3, N_compress = 1e3, N_tune = 2e3, N_eq = 1e6)\n",
    "fname = f'{name}_pf_{target_pf}'\n",
    "comm = hoomd.communicator.Communicator()\n",
    "cpu = hoomd.device.CPU(communicator=comm, notice_level=2)"
   ]
  },
  {
   "cell_type": "code",
   "execution_count": 4,
   "id": "bced0f0b-4439-4e41-aede-0b001eefe2f4",
   "metadata": {},
   "outputs": [
    {
     "name": "stdout",
     "output_type": "stream",
     "text": [
      "Current timestep: 1004000\n"
     ]
    }
   ],
   "source": [
    "seed = int(np.genfromtxt(f'./data/output_{fname}.txt', usecols=2)[-1])\n",
    "sim = hoomd.Simulation(device=cpu, seed=seed)\n",
    "sim.create_state_from_gsd(filename=f'./data/restart_{fname}.gsd')\n",
    "print(f'Current timestep: {sim.timestep}')"
   ]
  },
  {
   "cell_type": "code",
   "execution_count": 5,
   "id": "7f3750fd-4675-485c-bf69-1b59367d8441",
   "metadata": {},
   "outputs": [
    {
     "name": "stdout",
     "output_type": "stream",
     "text": [
      "MC a move size:0.06805\n",
      "MC d move size:0.05185\n"
     ]
    }
   ],
   "source": [
    "mc_a = np.genfromtxt(f'./data/output_{fname}.txt', usecols=6)[-1]\n",
    "mc_d = np.genfromtxt(f'./data/output_{fname}.txt', usecols=7)[-1]\n",
    "print(f'MC a move size:{mc_a}')\n",
    "print(f'MC d move size:{mc_d}')"
   ]
  },
  {
   "cell_type": "code",
   "execution_count": 6,
   "id": "9dad5671-0e66-40d9-89c3-a43d4e4a038f",
   "metadata": {},
   "outputs": [],
   "source": [
    "mc = hpmc.integrate.ConvexPolyhedron()\n",
    "mc.shape[name] = dict(vertices=verts)\n",
    "\n",
    "p_types = sim.state.particle_types\n",
    "for p_type in p_types:\n",
    "    mc.a[p_type] = mc_a\n",
    "    mc.d[p_type] = mc_d\n",
    "\n",
    "sim.operations.integrator = mc"
   ]
  },
  {
   "cell_type": "code",
   "execution_count": 7,
   "id": "c82f01f0-b0b8-4c3f-9854-a5c00a219aaa",
   "metadata": {},
   "outputs": [],
   "source": [
    "dump_period = 1e2\n",
    "log_period = 5e2\n",
    "\n",
    "table_logger = hoomd.logging.Logger(categories=['scalar', 'string'])\n",
    "table_logger.add(sim, quantities=['timestep', 'tps', 'seed', 'walltime'])\n",
    "\n",
    "def add_quantities_to_logger(custom_logger):\n",
    "    custom_logger[('overlaps', )] = (lambda: mc.overlaps, 'scalar')\n",
    "    custom_logger[('box_volume', )] = (lambda: sim.state.box.volume, 'scalar')\n",
    "\n",
    "    # Log MC params\n",
    "    for p_type in p_types:\n",
    "        custom_logger[(f'mc_a_{p_type}',)] = (lambda: mc.a[p_type], 'scalar')\n",
    "        custom_logger[(f'mc_d_{p_type}',)] = (lambda: mc.d[p_type], 'scalar')\n",
    "\n",
    "    custom_logger[('translate_move_acceptance_ratio', )] = (\n",
    "        lambda: mc.translate_moves[0] / sum(mc.translate_moves), 'scalar')\n",
    "    custom_logger[('rotate_move_acceptance_ratio', )] = (\n",
    "        lambda: mc.rotate_moves[0] / sum(mc.rotate_moves), 'scalar')\n",
    "\n",
    "add_quantities_to_logger(table_logger)\n",
    "output_file = open(f'./data/output_{fname}.txt', mode='a', newline='\\n')\n",
    "table = hoomd.write.Table(output=output_file,\n",
    "                          trigger=hoomd.trigger.Periodic(period=int(log_period)),\n",
    "                          logger=table_logger)\n",
    "sim.operations.writers.append(table)\n",
    "\n",
    "logger = hoomd.logging.Logger()\n",
    "logger.add(mc, quantities=['type_shapes'])"
   ]
  },
  {
   "cell_type": "code",
   "execution_count": 8,
   "id": "2975250f-f5da-4d60-8551-7aced0b13f83",
   "metadata": {},
   "outputs": [],
   "source": [
    "# Restart the HPMetaD simulation\n",
    "# The following parameters need to be consistent\n",
    "\n",
    "cv_min = 0.0\n",
    "cv_max = 0.5\n",
    "bins = 30\n",
    "init_height = 0.3\n",
    "sigma = 0.002\n",
    "gamma = 10\n",
    "\n",
    "metad_stride = 10\n",
    "colvar_mode = 'steinhardt'\n",
    "colvar_params = dict(neighbor={'r_max': 2.0}, l=6, average=False, wl=False, weighted=False, wl_normalize=False)"
   ]
  },
  {
   "cell_type": "code",
   "execution_count": 9,
   "id": "621bbf69-e9f5-4085-8459-9e354421d6a1",
   "metadata": {},
   "outputs": [],
   "source": [
    "hpmetad_action = HPMetaD(\n",
    "    sim=sim,\n",
    "    colvar_mode=colvar_mode,\n",
    "    colvar_params = colvar_params,\n",
    "    kT=1,\n",
    "    init_height=init_height,\n",
    "    metad_stride=metad_stride,\n",
    "    sigma=sigma,\n",
    "    gamma=gamma,\n",
    "    cv_min=cv_min,\n",
    "    cv_max=cv_max,\n",
    "    bins=bins,\n",
    "    seed=seed,\n",
    "    restart=True,\n",
    "    restart_fn='./data/WTMetaD_history.txt',\n",
    ")\n",
    "\n",
    "op = hoomd.update.CustomUpdater(action=hpmetad_action, trigger=1)\n",
    "sim.operations += op\n",
    "sim.operations += hpmetad_action.get_writer('./data/WTMetaD_log.hdf5')\n",
    "\n",
    "traj_writer = hoomd.write.GSD(filename=f'./data/traj_{fname}.gsd',\n",
    "                              trigger=hoomd.trigger.Periodic(int(dump_period), phase=1),\n",
    "                              mode='ab',\n",
    "                              dynamic=['property'],\n",
    "                              logger=logger)\n",
    "sim.operations.writers.append(traj_writer)\n",
    "total_timestep = run_params['N_eq'] + run_params['N_random'] + run_params['N_compress'] + run_params['N_tune']\n",
    "\n",
    "total_timestep = total_timestep + 1.6e4\n",
    "\n",
    "while sim.timestep < total_timestep:\n",
    "    step_size = int(total_timestep - sim.timestep)\n",
    "    sim.run(min(1e2, step_size))\n",
    "    hpmetad_action.save_history('./data/WTMetaD_history.txt')\n",
    "    for writer in sim.operations.writers:\n",
    "        if hasattr(writer, \"flush\"):\n",
    "            writer.flush()\n",
    "\n",
    "hpmetad_action.save_configuration(config_fn=f'./data/restart_{fname}.gsd', logger=logger)"
   ]
  },
  {
   "cell_type": "code",
   "execution_count": null,
   "id": "77100fa3-791a-41b8-87a1-e9ad8a2ba73d",
   "metadata": {},
   "outputs": [],
   "source": []
  }
 ],
 "metadata": {
  "kernelspec": {
   "display_name": "Python 3 (ipykernel)",
   "language": "python",
   "name": "python3"
  },
  "language_info": {
   "codemirror_mode": {
    "name": "ipython",
    "version": 3
   },
   "file_extension": ".py",
   "mimetype": "text/x-python",
   "name": "python",
   "nbconvert_exporter": "python",
   "pygments_lexer": "ipython3",
   "version": "3.11.8"
  }
 },
 "nbformat": 4,
 "nbformat_minor": 5
}
